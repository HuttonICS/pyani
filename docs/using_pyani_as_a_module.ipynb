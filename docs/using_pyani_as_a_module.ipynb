{
 "metadata": {
  "name": "",
  "signature": "sha256:845059ca79234831d19c8f0b0a3c332c9e84347ba7d1d322258692b6c8a8a338"
 },
 "nbformat": 3,
 "nbformat_minor": 0,
 "worksheets": [
  {
   "cells": [
    {
     "cell_type": "heading",
     "level": 1,
     "metadata": {},
     "source": [
      "Using `pyani` as a module"
     ]
    },
    {
     "cell_type": "markdown",
     "metadata": {},
     "source": [
      "This notebook presents an introductory example of using the `pyani` module as a Python module, rather than using the helper script."
     ]
    },
    {
     "cell_type": "code",
     "collapsed": false,
     "input": [
      "# Imports for the notebook\n",
      "import os\n",
      "\n",
      "from pyani import pyani_files, pyani_graphics, run_sge, run_multiprocessing, anim\n",
      "\n",
      "# IPython-specific\n",
      "from IPython.display import Image"
     ],
     "language": "python",
     "metadata": {},
     "outputs": [],
     "prompt_number": 1
    },
    {
     "cell_type": "heading",
     "level": 2,
     "metadata": {},
     "source": [
      "1. Introduction"
     ]
    },
    {
     "cell_type": "markdown",
     "metadata": {},
     "source": [
      "A typical use case for `pyani` would be to\n",
      "\n",
      "1. Identify a set of genome files\n",
      "2. Apply an ANI algorithm (ANIb, ANIm, ANIblastall, TETRA)\n",
      "3. Generate output\n",
      "\n",
      "The module's helper script wraps this process up with a range of command-line options and logging, so the module can be used as if it were a standalone program. Sometimes you may want to run ANI programmatically, and that is what this notebook will focus on."
     ]
    },
    {
     "cell_type": "heading",
     "level": 2,
     "metadata": {},
     "source": [
      "2. Using `pyani` as a module"
     ]
    },
    {
     "cell_type": "heading",
     "level": 3,
     "metadata": {},
     "source": [
      "2a. Specifying input files"
     ]
    },
    {
     "cell_type": "markdown",
     "metadata": {},
     "source": [
      "`pyani` expects FASTA sequence files, where each individual file represents a single organism. It does not matter greatly that the FASTA sequence represents a complete, closed genome or a fragment in multiple parts. It doesn't matter whether the file contains a chromosome and a plasmid (or plasmids). Typically each file should, however, represent the completest genome available to you for a specific organism/isolate."
     ]
    },
    {
     "cell_type": "markdown",
     "metadata": {},
     "source": [
      "Although the helper script expects all input FASTA files to be in the same directory, this is not true when using the module programmatically. Any list of valid paths to FASTA files can be used."
     ]
    },
    {
     "cell_type": "code",
     "collapsed": false,
     "input": [
      "accessions = ('NC_002696', 'NC_011916', 'NC_010338', 'NC_014100')\n",
      "datadir = os.path.join('..', 'tests', 'test_ani_data')\n",
      "filelist1 = [os.path.join(datadir, '%s.fna' % f) for f in accessions]\n",
      "print(filelist1)"
     ],
     "language": "python",
     "metadata": {},
     "outputs": [
      {
       "output_type": "stream",
       "stream": "stdout",
       "text": [
        "['../tests/test_ani_data/NC_002696.fna', '../tests/test_ani_data/NC_011916.fna', '../tests/test_ani_data/NC_010338.fna', '../tests/test_ani_data/NC_014100.fna']\n"
       ]
      }
     ],
     "prompt_number": 2
    },
    {
     "cell_type": "markdown",
     "metadata": {},
     "source": [
      "You can also use one of the module functions to collect all FASTA files from a single directory, if that is helpful:"
     ]
    },
    {
     "cell_type": "code",
     "collapsed": false,
     "input": [
      "filelist2 = pyani_files.get_fasta_files(datadir)\n",
      "print(filelist2)"
     ],
     "language": "python",
     "metadata": {},
     "outputs": [
      {
       "output_type": "stream",
       "stream": "stdout",
       "text": [
        "['../tests/test_ani_data/NC_002696.fna', '../tests/test_ani_data/NC_010338.fna', '../tests/test_ani_data/NC_011916.fna', '../tests/test_ani_data/NC_014100.fna']\n"
       ]
      }
     ],
     "prompt_number": 3
    },
    {
     "cell_type": "heading",
     "level": 3,
     "metadata": {},
     "source": [
      "2b. Applying an Algorithm (long form)"
     ]
    },
    {
     "cell_type": "markdown",
     "metadata": {},
     "source": [
      "The `pyani` module provides for three ANI algorithms, and also the `TETRA` algorithm for whole-genome comparisons:\n",
      "\n",
      "* `ANIm`\n",
      "* `ANIb`\n",
      "* `ANIblastall`\n",
      "* `TETRA`"
     ]
    },
    {
     "cell_type": "markdown",
     "metadata": {},
     "source": [
      "The three ANI algorithms can be used in a similar way:\n",
      "\n",
      "1. Generate a group of command-line jobs to be run, specifying input files and a location for output files (and any other useful parameters)\n",
      "2. Pass these command-lines to one of the scheduler wrappers (`multiprocessing` for local cores, or GridEngine)\n",
      "3. Process the output\n",
      "4. Use the output (e.g. write to file, or generate graphical output)"
     ]
    },
    {
     "cell_type": "heading",
     "level": 4,
     "metadata": {},
     "source": [
      "Example: `ANIm`"
     ]
    },
    {
     "cell_type": "markdown",
     "metadata": {},
     "source": [
      "For example, running `ANIm` on the sequences defined in `filelist1` above, placing the output in `../tests/test_docs_anim`, using the default `NUCmer` executable, we first generate a list of `Job`s, which are the command-line arguments to be run."
     ]
    },
    {
     "cell_type": "code",
     "collapsed": false,
     "input": [
      "# Make sure our planned output directory exists\n",
      "outdir = \"../tests/test_docs_anim\"\n",
      "if not os.path.isdir(outdir):\n",
      "    os.mkdir(outdir)\n",
      "\n",
      "jobs = anim.generate_jobs(filelist1, outdir=outdir)\n",
      "print(jobs)"
     ],
     "language": "python",
     "metadata": {},
     "outputs": [
      {
       "output_type": "stream",
       "stream": "stdout",
       "text": [
        "[<pyani.pyani_jobs.Job instance at 0x111e3c290>, <pyani.pyani_jobs.Job instance at 0x111e3c3b0>, <pyani.pyani_jobs.Job instance at 0x111e3c3f8>, <pyani.pyani_jobs.Job instance at 0x111e3c440>, <pyani.pyani_jobs.Job instance at 0x111e3c488>, <pyani.pyani_jobs.Job instance at 0x111e3c518>]\n"
       ]
      }
     ],
     "prompt_number": 4
    },
    {
     "cell_type": "markdown",
     "metadata": {},
     "source": [
      "Each of the `Job`s corresponds to a single command-line that needs to be run to conduct `ANIm`."
     ]
    },
    {
     "cell_type": "code",
     "collapsed": false,
     "input": [
      "print(jobs[0].command)"
     ],
     "language": "python",
     "metadata": {},
     "outputs": [
      {
       "output_type": "stream",
       "stream": "stdout",
       "text": [
        "nucmer -mum -p ../tests/test_docs_anim/NC_002696_vs_NC_011916 ../tests/test_ani_data/NC_002696.fna ../tests/test_ani_data/NC_011916.fna\n"
       ]
      }
     ],
     "prompt_number": 5
    },
    {
     "cell_type": "markdown",
     "metadata": {},
     "source": [
      "Each `Job` can have a dependency on other jobs that need to be run first. For `ANIm` this isn't a concern, but for BLAST-based analyses, databases may need to be created before comparisons can be performed. The list of jobs returned above is actually a *dependency graph* that describes both the command-line jobs and the order in which they should run."
     ]
    },
    {
     "cell_type": "markdown",
     "metadata": {},
     "source": [
      "To run the jobs, we can employ an available job scheduler to run these commands in parallel. For Python2.6+, the `multiprocessing` module should be available and take advantage of all local cores. If you are running on a cluster with GridEngine, this scheduler can also be used."
     ]
    },
    {
     "cell_type": "code",
     "collapsed": false,
     "input": [
      "# Use local multiprocessing\n",
      "retval = run_multiprocessing.run_dependency_graph(jobs)\n",
      "print(\"multiprocessing returns {0}\".format(retval))\n",
      "\n",
      "# Use GridEngine scheduler\n",
      "#run_sge.run_dependency_graph(jobs)"
     ],
     "language": "python",
     "metadata": {},
     "outputs": [
      {
       "output_type": "stream",
       "stream": "stdout",
       "text": [
        "multiprocessing returns 0\n"
       ]
      }
     ],
     "prompt_number": 6
    },
    {
     "cell_type": "markdown",
     "metadata": {},
     "source": [
      "The return value `retval` is useful for bailing on failed multiprocessing runs, as this is only not zero if at least one submitted job does not run as intended."
     ]
    },
    {
     "cell_type": "markdown",
     "metadata": {},
     "source": [
      "Now that the `NUCmer` calculations have been run for `ANIm`, we can process the output to calculate `ANIm`. We need to pass the original list of sequence files along with the output directory, as the `ANIm` calculation uses the sequence lengths."
     ]
    },
    {
     "cell_type": "code",
     "collapsed": false,
     "input": [
      "result = anim.process_deltadir(filelist1, outdir)"
     ],
     "language": "python",
     "metadata": {},
     "outputs": [],
     "prompt_number": 7
    },
    {
     "cell_type": "heading",
     "level": 3,
     "metadata": {},
     "source": [
      "2c. Viewing the result"
     ]
    },
    {
     "cell_type": "markdown",
     "metadata": {},
     "source": [
      "The returned `result` is a tuple of four `Pandas` dataframes, representing in order:\n",
      "\n",
      "* alignment_lengths - total length of alignment\n",
      "* percentage_identity - percentage identity of alignment\n",
      "* alignment_coverage - coverage of query and subject\n",
      "* similarity_errors - count of similarity errors"
     ]
    },
    {
     "cell_type": "code",
     "collapsed": false,
     "input": [
      "for r in result:\n",
      "    print(r)"
     ],
     "language": "python",
     "metadata": {},
     "outputs": [
      {
       "output_type": "stream",
       "stream": "stdout",
       "text": [
        "           NC_002696  NC_014100  NC_010338  NC_011916\n",
        "NC_002696    4016947    2273468    1401792    4073917\n",
        "NC_014100    2273468    4655622    1557102    2276228\n",
        "NC_010338    1401792    1557102    5477872    1402760\n",
        "NC_011916    4073917    2276228    1402760    4042929\n",
        "\n",
        "[4 rows x 4 columns]\n",
        "           NC_002696  NC_014100  NC_010338  NC_011916\n",
        "NC_002696   1.000000   0.867878   0.850838   0.999462\n",
        "NC_014100   0.867878   1.000000   0.852793   0.867934\n",
        "NC_010338   0.850838   0.852793   1.000000   0.850831\n",
        "NC_011916   0.999462   0.867934   0.850831   1.000000\n",
        "\n",
        "[4 rows x 4 columns]\n",
        "           NC_002696  NC_014100  NC_010338  NC_011916\n",
        "NC_002696   1.000000   0.488327   0.255901   1.007665\n",
        "NC_014100   0.565969   1.000000   0.284253   0.563015\n",
        "NC_010338   0.348970   0.334456   1.000000   0.346966\n",
        "NC_011916   1.014182   0.488920   0.256078   1.000000\n",
        "\n",
        "[4 rows x 4 columns]\n",
        "           NC_002696  NC_014100  NC_010338  NC_011916\n",
        "NC_002696          0     300375     209094       2191\n",
        "NC_014100     300375          0     229216     300613\n",
        "NC_010338     209094     229216          0     209249\n",
        "NC_011916       2191     300613     209249          0\n",
        "\n",
        "[4 rows x 4 columns]\n"
       ]
      }
     ],
     "prompt_number": 8
    },
    {
     "cell_type": "markdown",
     "metadata": {},
     "source": [
      "Being `Pandas` `DataFrames`, they can be presented in slightly prettier fashion:"
     ]
    },
    {
     "cell_type": "code",
     "collapsed": false,
     "input": [
      "print(type(result[0]))\n",
      "result[0] # alignment lengths"
     ],
     "language": "python",
     "metadata": {},
     "outputs": [
      {
       "output_type": "stream",
       "stream": "stdout",
       "text": [
        "<class 'pandas.core.frame.DataFrame'>\n"
       ]
      },
      {
       "html": [
        "<div style=\"max-height:1000px;max-width:1500px;overflow:auto;\">\n",
        "<table border=\"1\" class=\"dataframe\">\n",
        "  <thead>\n",
        "    <tr style=\"text-align: right;\">\n",
        "      <th></th>\n",
        "      <th>NC_002696</th>\n",
        "      <th>NC_014100</th>\n",
        "      <th>NC_010338</th>\n",
        "      <th>NC_011916</th>\n",
        "    </tr>\n",
        "  </thead>\n",
        "  <tbody>\n",
        "    <tr>\n",
        "      <th>NC_002696</th>\n",
        "      <td> 4016947</td>\n",
        "      <td> 2273468</td>\n",
        "      <td> 1401792</td>\n",
        "      <td> 4073917</td>\n",
        "    </tr>\n",
        "    <tr>\n",
        "      <th>NC_014100</th>\n",
        "      <td> 2273468</td>\n",
        "      <td> 4655622</td>\n",
        "      <td> 1557102</td>\n",
        "      <td> 2276228</td>\n",
        "    </tr>\n",
        "    <tr>\n",
        "      <th>NC_010338</th>\n",
        "      <td> 1401792</td>\n",
        "      <td> 1557102</td>\n",
        "      <td> 5477872</td>\n",
        "      <td> 1402760</td>\n",
        "    </tr>\n",
        "    <tr>\n",
        "      <th>NC_011916</th>\n",
        "      <td> 4073917</td>\n",
        "      <td> 2276228</td>\n",
        "      <td> 1402760</td>\n",
        "      <td> 4042929</td>\n",
        "    </tr>\n",
        "  </tbody>\n",
        "</table>\n",
        "<p>4 rows \u00d7 4 columns</p>\n",
        "</div>"
       ],
       "metadata": {},
       "output_type": "pyout",
       "prompt_number": 9,
       "text": [
        "           NC_002696  NC_014100  NC_010338  NC_011916\n",
        "NC_002696    4016947    2273468    1401792    4073917\n",
        "NC_014100    2273468    4655622    1557102    2276228\n",
        "NC_010338    1401792    1557102    5477872    1402760\n",
        "NC_011916    4073917    2276228    1402760    4042929\n",
        "\n",
        "[4 rows x 4 columns]"
       ]
      }
     ],
     "prompt_number": 9
    },
    {
     "cell_type": "heading",
     "level": 4,
     "metadata": {},
     "source": [
      "Writing output tables"
     ]
    },
    {
     "cell_type": "markdown",
     "metadata": {},
     "source": [
      "As the output is a `Pandas` `DataFrame`, the built-in class methods for writing the table out to file are all available:"
     ]
    },
    {
     "cell_type": "code",
     "collapsed": false,
     "input": [
      "# write dataframe to tab-separated format\n",
      "tabfile = os.path.join(outdir, \"aln_lengths.tab\")\n",
      "result[0].to_csv(tabfile, index=True, sep=\"\\t\")\n",
      "\n",
      "# What does the output look like?\n",
      "with open(tabfile) as fh:\n",
      "    print fh.read()"
     ],
     "language": "python",
     "metadata": {},
     "outputs": [
      {
       "output_type": "stream",
       "stream": "stdout",
       "text": [
        "\tNC_002696\tNC_014100\tNC_010338\tNC_011916\n",
        "NC_002696\t4016947.0\t2273468.0\t1401792.0\t4073917.0\n",
        "NC_014100\t2273468.0\t4655622.0\t1557102.0\t2276228.0\n",
        "NC_010338\t1401792.0\t1557102.0\t5477872.0\t1402760.0\n",
        "NC_011916\t4073917.0\t2276228.0\t1402760.0\t4042929.0\n",
        "\n"
       ]
      }
     ],
     "prompt_number": 10
    },
    {
     "cell_type": "heading",
     "level": 4,
     "metadata": {},
     "source": [
      "Writing graphics output with `matplotlib`"
     ]
    },
    {
     "cell_type": "markdown",
     "metadata": {},
     "source": [
      "The `pyani_graphics` module has code for rendering heatmaps from the output `DataFrames` using either the `matplotlib` library, or in `R`, using `rpy2`.\n",
      "\n",
      "The simplest use requires only to specify the `DataFrame` result, and the output filename, but this produces only a fairly basic plot, with a `Jet`-style colour scheme that is not the best visualisation choice. With this demo data, the grouping of input sequences is still clear, however."
     ]
    },
    {
     "cell_type": "code",
     "collapsed": false,
     "input": [
      "imgfilename = os.path.join(outdir, \"aln_lengths.png\")\n",
      "pyani_graphics.heatmap_mpl(result[0], imgfilename)\n",
      "Image(imgfilename)"
     ],
     "language": "python",
     "metadata": {},
     "outputs": [
      {
       "metadata": {},
       "output_type": "pyout",
       "png": "[encoded data removed]",
       "prompt_number": 11,
       "text": [
        "<IPython.core.display.Image at 0x111e8b550>"
       ]
      }
     ],
     "prompt_number": 11
    },
    {
     "cell_type": "code",
     "collapsed": false,
     "input": [],
     "language": "python",
     "metadata": {},
     "outputs": [],
     "prompt_number": 11
    }
   ],
   "metadata": {}
  }
 ]
}