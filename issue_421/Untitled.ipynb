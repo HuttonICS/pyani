{
 "cells": [
  {
   "cell_type": "code",
   "execution_count": 1,
   "id": "fbcbef2e-ceed-4284-aa2f-e180f34fd859",
   "metadata": {},
   "outputs": [],
   "source": [
    "import pyani"
   ]
  },
  {
   "cell_type": "code",
   "execution_count": 2,
   "id": "1c62a35e-e6a6-403d-a555-a0acb97f8138",
   "metadata": {},
   "outputs": [],
   "source": [
    "from pyani import anim"
   ]
  },
  {
   "cell_type": "code",
   "execution_count": 3,
   "id": "bf97ffb3-7cf2-4043-8da7-4c2239cab834",
   "metadata": {},
   "outputs": [
    {
     "data": {
      "text/plain": [
       "['ANIResults',\n",
       " 'Dict',\n",
       " 'Iterable',\n",
       " 'List',\n",
       " 'Logger',\n",
       " 'Optional',\n",
       " 'Path',\n",
       " 'PyaniANImException',\n",
       " 'PyaniException',\n",
       " 'Tuple',\n",
       " '__builtins__',\n",
       " '__cached__',\n",
       " '__doc__',\n",
       " '__file__',\n",
       " '__loader__',\n",
       " '__name__',\n",
       " '__package__',\n",
       " '__spec__',\n",
       " 'construct_nucmer_cmdline',\n",
       " 'generate_nucmer_commands',\n",
       " 'generate_nucmer_jobs',\n",
       " 'get_fasta_files',\n",
       " 'get_version',\n",
       " 'logging',\n",
       " 'os',\n",
       " 'parse_delta',\n",
       " 'platform',\n",
       " 'process_deltadir',\n",
       " 'pyani_config',\n",
       " 'pyani_files',\n",
       " 'pyani_jobs',\n",
       " 're',\n",
       " 'shutil',\n",
       " 'subprocess',\n",
       " 'sys']"
      ]
     },
     "execution_count": 3,
     "metadata": {},
     "output_type": "execute_result"
    }
   ],
   "source": [
    "dir(anim)"
   ]
  },
  {
   "cell_type": "code",
   "execution_count": 4,
   "id": "af4267c8-1682-45fb-9dc6-d50429ac1ed4",
   "metadata": {},
   "outputs": [
    {
     "data": {
      "text/plain": [
       "(['nucmer --mum -p nucmer_output/genomeA/genomeA_vs_genomeB genomeA.fasta genomeB.fasta',\n",
       "  'nucmer --mum -p nucmer_output/genomeB/genomeB_vs_genomeA genomeB.fasta genomeA.fasta'],\n",
       " ['delta_filter_wrapper.py delta-filter -1 nucmer_output/genomeA/genomeA_vs_genomeB.delta nucmer_output/genomeA/genomeA_vs_genomeB.filter',\n",
       "  'delta_filter_wrapper.py delta-filter -1 nucmer_output/genomeB/genomeB_vs_genomeA.delta nucmer_output/genomeB/genomeB_vs_genomeA.filter'])"
      ]
     },
     "execution_count": 4,
     "metadata": {},
     "output_type": "execute_result"
    }
   ],
   "source": [
    "anim.generate_nucmer_commands([\"genomeA.fasta\", \"genomeB.fasta\"])"
   ]
  },
  {
   "cell_type": "code",
   "execution_count": 5,
   "id": "ddfe6830-ee88-41f9-b2da-d396c4fcf474",
   "metadata": {},
   "outputs": [
    {
     "name": "stdout",
     "output_type": "stream",
     "text": [
      "Help on function generate_nucmer_commands in module pyani.anim:\n",
      "\n",
      "generate_nucmer_commands(filenames: List[pathlib.Path], outdir: pathlib.Path = PosixPath('.'), nucmer_exe: pathlib.Path = PosixPath('nucmer'), filter_exe: pathlib.Path = PosixPath('delta-filter'), maxmatch: bool = False) -> Tuple[List, List]\n",
      "    Return list of NUCmer command-lines for ANIm.\n",
      "    \n",
      "    :param filenames:  a list of paths to input FASTA files\n",
      "    :param outdir:  path to output directory\n",
      "    :param nucmer_exe:  location of the nucmer binary\n",
      "    :param maxmatch:  Boolean flag indicating to use NUCmer's -maxmatch option\n",
      "    \n",
      "    The first element returned is a list of NUCmer commands, and the\n",
      "    second a corresponding list of delta_filter_wrapper.py commands.\n",
      "    The NUCmer commands should each be run before the corresponding\n",
      "    delta-filter command.\n",
      "    \n",
      "    TODO: This return value needs to be reworked as a collection.\n",
      "    \n",
      "    Loop over all FASTA files generating NUCmer command lines for each\n",
      "    pairwise comparison.\n",
      "\n"
     ]
    }
   ],
   "source": [
    "help(anim.generate_nucmer_commands)"
   ]
  },
  {
   "cell_type": "code",
   "execution_count": null,
   "id": "c3a500c1-1462-4c96-b7a8-98836cd03906",
   "metadata": {},
   "outputs": [],
   "source": []
  }
 ],
 "metadata": {
  "kernelspec": {
   "display_name": "Python 3 (ipykernel)",
   "language": "python",
   "name": "python3"
  },
  "language_info": {
   "codemirror_mode": {
    "name": "ipython",
    "version": 3
   },
   "file_extension": ".py",
   "mimetype": "text/x-python",
   "name": "python",
   "nbconvert_exporter": "python",
   "pygments_lexer": "ipython3",
   "version": "3.11.7"
  }
 },
 "nbformat": 4,
 "nbformat_minor": 5
}
